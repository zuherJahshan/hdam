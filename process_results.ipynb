{
 "cells": [
  {
   "cell_type": "code",
   "execution_count": 1,
   "metadata": {},
   "outputs": [],
   "source": [
    "import json\n",
    "import csv"
   ]
  },
  {
   "cell_type": "code",
   "execution_count": 2,
   "metadata": {},
   "outputs": [],
   "source": [
    "database_viruses = [\n",
    "    \"chickenpox\",\n",
    "    \"dengue\",\n",
    "    \"ebola\",\n",
    "    \"herpes\",\n",
    "    \"kyasanur\",\n",
    "    \"marburg\",\n",
    "    \"measles\",\n",
    "    \"sars-cov-2\"    \n",
    "]\n",
    "\n",
    "other_viruses = [\n",
    "    \"crimea-congo\",\n",
    "    \"hantavirus\",\n",
    "    \"influenza\",\n",
    "    \"junin\",\n",
    "    \"lassa\",\n",
    "    \"machupo\",\n",
    "    \"papiloma\",\n",
    "    \"rotavirus\",\n",
    "]"
   ]
  },
  {
   "cell_type": "code",
   "execution_count": 3,
   "metadata": {},
   "outputs": [],
   "source": [
    "def read_raw_results_from_file(filename):\n",
    "    with open(filename, \"r\") as f:\n",
    "        return json.load(f)"
   ]
  },
  {
   "cell_type": "code",
   "execution_count": 4,
   "metadata": {},
   "outputs": [],
   "source": [
    "raw_results = read_raw_results_from_file(\"raw_results.json\")"
   ]
  },
  {
   "cell_type": "code",
   "execution_count": 5,
   "metadata": {},
   "outputs": [],
   "source": [
    "platforms = [\"pacbio0\", \"pacbio5\", \"pacbio10\", \"pacbio15\"]"
   ]
  },
  {
   "cell_type": "code",
   "execution_count": 6,
   "metadata": {},
   "outputs": [],
   "source": [
    "# intialize processed results\n",
    "processed_results = {}\n",
    "for platform in platforms:\n",
    "    processed_results[platform] = {}\n",
    "    for threshold in range(0,22):\n",
    "        processed_results[platform].update({\n",
    "            threshold: {\n",
    "                \"positives\": {},\n",
    "                \"negatives\": {}\n",
    "            }\n",
    "        })\n",
    "        for virus in database_viruses:\n",
    "            processed_results[platform][threshold][\"positives\"][virus] = {\n",
    "                \"tp\": 0, \"fp\": 0, \"fn\": 0\n",
    "            }\n",
    "        for virus in other_viruses:\n",
    "            processed_results[platform][threshold][\"negatives\"][virus] = {\n",
    "                \"tn\": 0, \"fp\": 0\n",
    "            }\n"
   ]
  },
  {
   "cell_type": "code",
   "execution_count": 13,
   "metadata": {},
   "outputs": [],
   "source": [
    "virus_to_rank = {\n",
    "    \"Multiple\": 0,\n",
    "    \"None\": 2\n",
    "}\n",
    "for platform in platforms:\n",
    "    for threshold in range(0, 22):\n",
    "        if not str(threshold) in raw_results[platform]:\n",
    "            continue\n",
    "        for virus in database_viruses:\n",
    "            if not virus in raw_results[platform][str(threshold)]:\n",
    "                continue\n",
    "            read_results, read_rc_results = raw_results[platform][str(threshold)][virus].values()\n",
    "            tp, fn, fp = 0, 0, 0\n",
    "            for read_res, rc_res in zip(read_results, read_rc_results):\n",
    "                res_virus = [read_res, rc_res]\n",
    "                res_virus.sort(key=lambda x: virus_to_rank.get(x, 1))\n",
    "                if res_virus[0] !=  \"None\" and res_virus[1] != \"None\" and (res_virus[0] != res_virus[1]):\n",
    "                    res_virus = \"Multiple\"\n",
    "                else:\n",
    "                    res_virus = res_virus[0]\n",
    "                if res_virus == virus:\n",
    "                    processed_results[platform][threshold][\"positives\"][virus][\"tp\"] += 1\n",
    "                elif res_virus == \"None\":\n",
    "                    processed_results[platform][threshold][\"positives\"][virus][\"fn\"] += 1\n",
    "                elif res_virus == \"Multiple\":\n",
    "                    processed_results[platform][threshold][\"positives\"][virus][\"tp\"] += 1\n",
    "                    processed_results[platform][threshold][\"positives\"][virus][\"fp\"] += 1\n",
    "                else:\n",
    "                    processed_results[platform][threshold][\"positives\"][virus][\"fp\"] += 1\n",
    "        for virus in other_viruses:\n",
    "            if not virus in raw_results[platform][str(threshold)]:\n",
    "                continue\n",
    "            read_results, read_rc_results = raw_results[platform][str(threshold)][virus].values()\n",
    "            tn, fp = 0, 0\n",
    "            for read_res, rc_res in zip(read_results, read_rc_results):\n",
    "                res_virus = [read_res, rc_res]\n",
    "                res_virus.sort(key=lambda x: virus_to_rank.get(x, 1))\n",
    "                res_virus = res_virus[0]\n",
    "                if res_virus == \"None\":\n",
    "                    processed_results[platform][threshold][\"negatives\"][virus][\"tn\"] += 1\n",
    "                elif res_virus == \"Multiple\":\n",
    "                    processed_results[platform][threshold][\"negatives\"][virus][\"fp\"] += 1"
   ]
  },
  {
   "cell_type": "code",
   "execution_count": 8,
   "metadata": {},
   "outputs": [],
   "source": [
    "for platform, curr_dict in processed_results.items():\n",
    "    for threshold, threshold_dict in curr_dict.items():\n",
    "        for virus, virus_dict in threshold_dict[\"positives\"].items():\n",
    "            tp, fp, fn = virus_dict.values()\n",
    "            if tp + fp == 0:\n",
    "                precision = 0\n",
    "            else:\n",
    "                precision = tp / (tp + fp)\n",
    "            if tp + fn == 0:\n",
    "                recall = 0\n",
    "            else:\n",
    "                recall = tp / (tp + fn)\n",
    "            if precision + recall == 0:\n",
    "                f1 = 0\n",
    "            else:\n",
    "                f1 = 2 * (precision * recall) / (precision + recall)\n",
    "            processed_results[platform][threshold][\"positives\"][virus].update({\n",
    "                \"precision\": precision,\n",
    "                \"recall\": recall,\n",
    "                \"f1\": f1\n",
    "            })\n",
    "        for virus, virus_dict in threshold_dict[\"negatives\"].items():\n",
    "            tn, fp = virus_dict.values()\n",
    "            if tn + fp == 0:\n",
    "                specificity = 0\n",
    "            else:\n",
    "                specificity = tn / (tn + fp)\n",
    "            processed_results[platform][threshold][\"negatives\"][virus].update({\n",
    "                \"specificity\": specificity\n",
    "            })"
   ]
  },
  {
   "cell_type": "code",
   "execution_count": 9,
   "metadata": {},
   "outputs": [],
   "source": [
    "# Write results to a csv file, s.t. the rows will be the different thresholds and the columns will be the different viruses\n",
    "for platform in platforms:\n",
    "    with open(f\"data/processed_results_{platform}.csv\", \"w\") as f:\n",
    "        writer = csv.writer(f)\n",
    "        writer.writerow([\"Threshold\"] + database_viruses + database_viruses + other_viruses)\n",
    "        for threshold in range(0, 22):\n",
    "            row = [threshold]\n",
    "            for virus in database_viruses:\n",
    "                row += [processed_results[platform][threshold][\"positives\"][virus][\"recall\"]]\n",
    "            for virus in database_viruses:\n",
    "                row += [processed_results[platform][threshold][\"positives\"][virus][\"precision\"]]\n",
    "            for virus in other_viruses:\n",
    "                row += [processed_results[platform][threshold][\"negatives\"][virus][\"specificity\"]]\n",
    "            writer.writerow(row)"
   ]
  },
  {
   "cell_type": "code",
   "execution_count": null,
   "metadata": {},
   "outputs": [],
   "source": []
  }
 ],
 "metadata": {
  "kernelspec": {
   "display_name": "hdam",
   "language": "python",
   "name": "python3"
  },
  "language_info": {
   "codemirror_mode": {
    "name": "ipython",
    "version": 3
   },
   "file_extension": ".py",
   "mimetype": "text/x-python",
   "name": "python",
   "nbconvert_exporter": "python",
   "pygments_lexer": "ipython3",
   "version": "3.11.8"
  }
 },
 "nbformat": 4,
 "nbformat_minor": 2
}
